{
 "cells": [
  {
   "cell_type": "markdown",
   "metadata": {},
   "source": [
    "# For the venues, fetches data, creates and queries graph database (is being tested)."
   ]
  },
  {
   "cell_type": "markdown",
   "metadata": {},
   "source": [
    "# important!: open neo4j, gather required libraries"
   ]
  },
  {
   "cell_type": "code",
   "execution_count": null,
   "metadata": {},
   "outputs": [],
   "source": [
    "    !pip install meetup.api\n",
    "    import meetup.api\n",
    "    import json\n",
    "\n",
    "    import pandas\n",
    "    from pandas.io.json import json_normalize\n",
    "\n",
    "    \n",
    "    client = meetup.api.Client('149155b67979442634b463d11cc')\n",
    "    \n",
    "    range"
   ]
  },
  {
   "cell_type": "code",
   "execution_count": 59,
   "metadata": {},
   "outputs": [],
   "source": [
    "    # creation of the CSV files for Groups, Events and RSVPs\n",
    "    def createVenuesCSV(venuesRange, nameOfVenuesRange):\n",
    "        fileVenues = \"venues\" + nameOfVenuesRange + \".csv\"\n",
    "\n",
    "        f = open(fileVenues, \"w+\")\n",
    "        f.close()\n",
    "        \n",
    "        #create Venues-CSV\n",
    "        venueDF = pandas.DataFrame.from_dict(venuesRange.__dict__[\"results\"])\n",
    "        venueDF = venueDF[['id','rating_count', 'rating', 'address_1','city', 'localized_country_name', 'lon', 'lat']]\n",
    "        #venueDF = venueDF.to_json(orient='records')\n",
    "       \n",
    "        venueDF.to_csv(fileVenues, mode='a', encoding='utf-8')"
   ]
  },
  {
   "cell_type": "code",
   "execution_count": null,
   "metadata": {},
   "outputs": [],
   "source": [
    "ZH = client.GetOpenVenues(country = \"CH\", city=\"Zürich\", radius=150)\n",
    "createVenuesCSV(ZH, \"ZH\")"
   ]
  },
  {
   "cell_type": "markdown",
   "metadata": {},
   "source": [
    "# graph creation"
   ]
  },
  {
   "cell_type": "code",
   "execution_count": 64,
   "metadata": {},
   "outputs": [],
   "source": [
    "import os\n",
    "import csv\n",
    "from neo4j import GraphDatabase, basic_auth\n",
    "\n",
    "#currently neo4j is running on localhost\n",
    "neo4jUrl = os.environ.get('NEO4J_URL',\"bolt://localhost\")\n",
    "neo4jUser = os.environ.get('NEO4J_USER',\"neo4j\")\n",
    "neo4jPass = os.environ.get('NEO4J_PASSWORD',\"1\")\n",
    "\n",
    "driver = GraphDatabase.driver(neo4jUrl, auth=basic_auth(neo4jUser, neo4jPass))\n",
    "\n",
    "graph = driver.session()"
   ]
  },
  {
   "cell_type": "code",
   "execution_count": 65,
   "metadata": {},
   "outputs": [],
   "source": [
    "# create graph databases for groups, events, rsvps and the \n",
    "# relationships between them using the specified csv files\n",
    "def createGraphUsingCSVV(venuesRange):\n",
    "\n",
    "        fileVenues = \"venues\" + venuesRange + \".csv\"\n",
    "\n",
    "\n",
    "        with open(fileVenues, encoding='utf8') as csvfile:\n",
    "                reader = csv.DictReader(csvfile)\n",
    "                for row in reader:\n",
    "                    id = row['id']\n",
    "                    rating_count = row['rating_count']\n",
    "                    rating = row['rating']\n",
    "                    city = row['city']\n",
    "                    address_1 = row['address_1']\n",
    "                    localized_country_name = row['localized_country_name']\n",
    "                    lon = row['lon']\n",
    "                    lat = row['lat']\n",
    "                    graph.run (\"MERGE (v:Venue {id: {id}, rating_count: {rating_count}, rating : {rating}, city : {city}, address_1 : {address_1}, localized_country_name:{localized_country_name}, lon : {lon}, lat : {lat}})\"\n",
    "                              , id = id, city=city, rating_count = rating_count, rating = rating, address_1 = address_1, localized_country_name = localized_country_name, lon = lon, lat = lat\n",
    "                              )\n",
    "\n",
    "       "
   ]
  },
  {
   "cell_type": "code",
   "execution_count": 66,
   "metadata": {},
   "outputs": [],
   "source": [
    "createGraphUsingCSVV(\"ZH\")\n",
    "\n",
    "graph.close()"
   ]
  },
  {
   "cell_type": "markdown",
   "metadata": {},
   "source": [
    "# querying"
   ]
  },
  {
   "cell_type": "code",
   "execution_count": null,
   "metadata": {},
   "outputs": [],
   "source": [
    "# get top 5 events locations based on amount of events in a specific place(from meetup's openVenues-API; time frame not given)"
   ]
  },
  {
   "cell_type": "code",
   "execution_count": null,
   "metadata": {},
   "outputs": [],
   "source": [
    "def getHotEventsVenue(tx):\n",
    "    for record in tx.run(\"match (e:Venue) where not e.address_1 = '' and  not e.city='' return e.address_1 as address, e.city as city, count(*) as amountOfEvents order by  amountOfEvents desc limit 5\"):\n",
    "        print(\"AmountOfEvents \"+str(record[\"amountOfEvents\"]) + \" | \"+str(record[\"address\"]) + \" | \" +str(record[\"city\"]))\n",
    "\n",
    "with driver.session() as session:\n",
    "    session.read_transaction(getHotEventsVenue)  "
   ]
  },
  {
   "cell_type": "code",
   "execution_count": null,
   "metadata": {},
   "outputs": [],
   "source": [
    "# get top 5 event locations based on rating in a specific place(from meetup's openVenues-API; time frame not given)"
   ]
  },
  {
   "cell_type": "code",
   "execution_count": null,
   "metadata": {},
   "outputs": [],
   "source": [
    "def getHotVenuesBasedOnRating(tx):\n",
    "    for record in tx.run(\"match (e:Venue) where not e.address_1 = '' and  not e.city='' and toInt(e.rating_count) > 10 return e.address_1 as address, e.city as city, e.rating as rating, e.rating_count as rating_count order by toFloat(rating) desc limit 5\"):\n",
    "        print(str(record[\"address\"]) + \" | \"+str(record[\"rating\"]) + \" | \" +str(record[\"rating_count\"]) )\n",
    "\n",
    "with driver.session() as session:\n",
    "    session.read_transaction(getHotVenuesBasedOnRating)  "
   ]
  }
 ],
 "metadata": {
  "kernelspec": {
   "display_name": "Python 3",
   "language": "python",
   "name": "python3"
  },
  "language_info": {
   "codemirror_mode": {
    "name": "ipython",
    "version": 3
   },
   "file_extension": ".py",
   "mimetype": "text/x-python",
   "name": "python",
   "nbconvert_exporter": "python",
   "pygments_lexer": "ipython3",
   "version": "3.7.1"
  }
 },
 "nbformat": 4,
 "nbformat_minor": 2
}
