{
 "cells": [
  {
   "cell_type": "markdown",
   "metadata": {},
   "source": [
    "# In this file, graph databases are created in neo4j using the data from the created CSV files about groups, events and RSVPs."
   ]
  },
  {
   "cell_type": "markdown",
   "metadata": {},
   "source": [
    "# 1. preparation: required libraries are fetched and connection to neo4j is established."
   ]
  },
  {
   "cell_type": "code",
   "execution_count": 7,
   "metadata": {},
   "outputs": [],
   "source": [
    "import os\n",
    "import csv\n",
    "from neo4j import GraphDatabase, basic_auth\n",
    "\n",
    "#currently neo4j is running on localhost\n",
    "neo4jUrl = os.environ.get('NEO4J_URL',\"bolt://192.168.99.100\")\n",
    "neo4jUser = os.environ.get('NEO4J_USER',\"neo4j\")\n",
    "neo4jPass = os.environ.get('NEO4J_PASSWORD',\"1\")\n",
    "\n",
    "driver = GraphDatabase.driver(neo4jUrl, auth=basic_auth(neo4jUser, neo4jPass))\n",
    "\n",
    "graph = driver.session()\n",
    "    \n",
    "   "
   ]
  },
  {
   "cell_type": "markdown",
   "metadata": {},
   "source": [
    "# 2. function for graph creation is prepared.\n",
    "Create graph databases for groups, events, participants, topics, venues and the relationships between them using the specified csv files."
   ]
  },
  {
   "cell_type": "code",
   "execution_count": 8,
   "metadata": {},
   "outputs": [],
   "source": [
    "def createGraphUsingCSV(eventRange):\n",
    "\n",
    "        fileGroups = \"groups\" + eventRange + \".csv\"\n",
    "        fileRSVPs = \"rsvps\" + eventRange + \".csv\"\n",
    "        fileEvents = \"events\" + eventRange + \".csv\"\n",
    "        \n",
    "        with open(fileGroups, encoding='utf8') as csvfile:\n",
    "            reader = csv.DictReader(csvfile)\n",
    "            for row in reader:\n",
    "                id = row['id']\n",
    "                name = row['name']\n",
    "                members = row['members']\n",
    "                link = row['link']\n",
    "                topics = row['topics']\n",
    "\n",
    "                graph.run(\" with apoc.convert.fromJsonList({topics}) as list unwind list as list1 merge(t:Topic{id:list1.id, urlkey:list1.urlkey}) MERGE (g:Group {id: {id}, name: {name}, members: {members}, link:{link}, topics:{topics}}) with g, apoc.convert.fromJsonList(g.topics) as list2 unwind list2 as list3 match(tt:Topic) where tt.id in list3.id merge (tt)<-[:IS_ABOUT]-(g)\",  \n",
    "            \n",
    "                            id = id, name = name, members = members, link = link, topics=topics)\n",
    "   \n",
    "\n",
    "        with open(fileEvents, encoding='utf8') as csvfile:\n",
    "                reader = csv.DictReader(csvfile)\n",
    "                for row in reader:\n",
    "                    group_id = row['group_id']\n",
    "                    id = row['id']\n",
    "                    rsvp_limit = row['rsvp_limit']\n",
    "                    yes_rsvp_count = row['yes_rsvp_count']\n",
    "                    city = row['city']\n",
    "                    address = row['address']\n",
    "                    venue_id = row['venue_id']\n",
    "                    venue_name = row['venue_name']\n",
    "                    lat = row['lat']\n",
    "                    lon = row['lon']\n",
    "                    country = row['country']\n",
    "                    name = row['name']\n",
    "                    event_url = row['event_url']\n",
    "                    time = row['time']\n",
    "                    graph.run (\"Merge (v:Venue {id:{venue_id}, venue_name:{venue_name}, lat:{lat}, lon:{lon}, address:{address}, city:{city}}) with v MATCH (c:Group) where toString(c.id) = toString({group_id}) MERGE (e:Event {id: {id}, name: {name}, url : {event_url}, rsvp_limit : {rsvp_limit}, yes_rsvp_count:{yes_rsvp_count}, time : {time}, venue_id:{venue_id}}) MERGE (e)<-[:ORGANIZES]-(c) with e Match (v2:Venue) where v2.id = e.venue_id MERGE (v2)<-[:TAKES_PLACE_AT]-(e)\"\n",
    "                              , venue_id = venue_id, venue_name = venue_name, lat = lat, lon = lon, address = address, group_id = group_id, id = id, name = name, event_url = event_url, rsvp_limit = rsvp_limit, yes_rsvp_count = yes_rsvp_count, time = time, city = city\n",
    "                              )\n",
    "\n",
    "\n",
    "        with open(fileRSVPs, encoding='utf8') as csvfile:\n",
    "            reader = csv.DictReader(csvfile)\n",
    "            for row in reader:\n",
    "                event_id = row['event_id']\n",
    "                member_id = row['member_id']\n",
    "                name = row['name']\n",
    "                graph.run(\"MATCH (e:Event) where toString(e.id) = toString({event_id}) MERGE (p:Person {id: {member_id}, name: {name}}) MERGE (e)<-[:RSVPd]-(p)\", event_id = event_id, member_id = member_id, name = name)           \n",
    "     \n",
    "\n",
    "       "
   ]
  },
  {
   "cell_type": "markdown",
   "metadata": {},
   "source": [
    "# 3. the function for graph creation is called here. The filenames are passed as parameters.\n",
    "Depending on the desired analysis, the corresponding line is used. The other lines are commented out. "
   ]
  },
  {
   "cell_type": "code",
   "execution_count": 9,
   "metadata": {
    "scrolled": true
   },
   "outputs": [],
   "source": [
    "#createGraphUsingCSV(\"ZH\")\n",
    "createGraphUsingCSV(\"Oracle\")\n",
    "\n",
    "#createGraphUsingCSV(\"Top\")\n",
    "createGraphUsingCSV(\"ZHTrend\")\n",
    "\n",
    "graph.close()"
   ]
  }
 ],
 "metadata": {
  "kernelspec": {
   "display_name": "Python 3",
   "language": "python",
   "name": "python3"
  },
  "language_info": {
   "codemirror_mode": {
    "name": "ipython",
    "version": 3
   },
   "file_extension": ".py",
   "mimetype": "text/x-python",
   "name": "python",
   "nbconvert_exporter": "python",
   "pygments_lexer": "ipython3",
   "version": "3.7.1"
  }
 },
 "nbformat": 4,
 "nbformat_minor": 2
}
