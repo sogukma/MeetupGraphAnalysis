{
 "cells": [
  {
   "cell_type": "markdown",
   "metadata": {},
   "source": [
    "# brings new insights into Oracle's groups regarding localities, topics and events."
   ]
  },
  {
   "cell_type": "markdown",
   "metadata": {},
   "source": [
    "# important!: open neo4j, gather required libraries"
   ]
  },
  {
   "cell_type": "code",
   "execution_count": 27,
   "metadata": {},
   "outputs": [],
   "source": [
    "import os\n",
    "import csv\n",
    "from neo4j import GraphDatabase, basic_auth\n",
    "\n",
    "#currently neo4j is running on localhost\n",
    "neo4jUrl = os.environ.get('NEO4J_URL',\"bolt://localhost\")\n",
    "neo4jUser = os.environ.get('NEO4J_USER',\"neo4j\")\n",
    "neo4jPass = os.environ.get('NEO4J_PASSWORD',\"1\")\n",
    "\n",
    "driver = GraphDatabase.driver(neo4jUrl, auth=basic_auth(neo4jUser, neo4jPass))\n",
    "\n",
    "graph = driver.session()"
   ]
  },
  {
   "cell_type": "markdown",
   "metadata": {},
   "source": [
    "# query snippets"
   ]
  },
  {
   "cell_type": "code",
   "execution_count": 28,
   "metadata": {},
   "outputs": [],
   "source": [
    "allNodes_where_person_rsvpd_to_oracle_and_others = \"match (g:Group)-[:ORGANIZES]->(e:Event)<-[:RSVPd]-(p:Person)-[:RSVPd]->(e2:Event)<-[:ORGANIZES]-(g2:Group)  where g.name <> g2.name and g.name ='Code4Fun' or g.name='Swiss Data Circle'\""
   ]
  },
  {
   "cell_type": "markdown",
   "metadata": {},
   "source": [
    "# List of Groups where people RSVP's rsvp'd to Swiss Data Circle or Code4Fun as well"
   ]
  },
  {
   "cell_type": "code",
   "execution_count": 32,
   "metadata": {
    "scrolled": true
   },
   "outputs": [
    {
     "name": "stdout",
     "output_type": "stream",
     "text": [
      "Deep Learning Zurich (DLZH)\n",
      "Power BI User Group Switzerland\n",
      "Big Data Developers in Switzerland\n",
      "Future of Data: Zürich\n",
      "Zurich R User Group\n",
      "AI for Intelligent Cloud Zürich\n",
      "Swiss Big Data User Group\n",
      "Zürich School of AI\n",
      "PyData Zurich\n",
      "AnalyticsCamp Switzerland\n",
      "Pantalks - tech & non-tech talks @ Colab Zürich\n",
      "Software Architecture and Project Design Zurich\n",
      "Code4Fun\n",
      "Voice Meetup Switzerland\n",
      "Web Zürich\n",
      "Oracle Beer\n",
      "Swiss Oracle Cloud Community\n",
      "Zürich Startup Founder 101\n"
     ]
    }
   ],
   "source": [
    "def get_groups_where_rsvps_rsvpd_also_to_oracle(tx):\n",
    "    for record in tx.run(allNodes_where_person_rsvpd_to_oracle_and_others +\" return distinct g2.name\"):\n",
    "        print(str(record[\"g2.name\"]))\n",
    "\n",
    "with driver.session() as session:\n",
    "    session.read_transaction(get_groups_where_rsvps_rsvpd_also_to_oracle)"
   ]
  },
  {
   "cell_type": "markdown",
   "metadata": {},
   "source": [
    "# Ranking of people who have rsvp'd at SwissDataCircle or Code4Fun and have rsvpd elsewhere.\n",
    "Ranking is based on RSVP-count of the specific person"
   ]
  },
  {
   "cell_type": "code",
   "execution_count": 35,
   "metadata": {},
   "outputs": [],
   "source": [
    "%%capture\n",
    "def get_people_ranking(tx):\n",
    "    for record in tx.run(allNodes_where_person_rsvpd_to_oracle_and_others+\" return p.name as person_name, count(*) as rsvpd_event_amount order by rsvpd_event_amount desc\"):\n",
    "        print(str(record[\"rsvpd_event_amount\"])  + \"\\t|\" + str(record[\"person_name\"]) )\n",
    "\n",
    "with driver.session() as session:\n",
    "    session.read_transaction(get_people_ranking)\n"
   ]
  },
  {
   "cell_type": "markdown",
   "metadata": {},
   "source": [
    "# Ranking of people who just rsvp'd somewhere\n",
    "Ranking is based on RSVP-count of the specific person"
   ]
  },
  {
   "cell_type": "code",
   "execution_count": 34,
   "metadata": {},
   "outputs": [],
   "source": [
    "%%capture\n",
    "def get_people_ranking(tx):\n",
    "    for record in tx.run(\"match (g:Group)-[:ORGANIZES]->(e:Event)<-[r:RSVPd]-(p:Person) return p.name as person_name, count(r) as rsvpd_event_amount order by rsvpd_event_amount desc\"):\n",
    "        print(str(record[\"rsvpd_event_amount\"])  + \"\\t|\" + str(record[\"person_name\"]) )\n",
    "\n",
    "with driver.session() as session:\n",
    "    session.read_transaction(get_people_ranking)\n",
    "\n",
    "\n"
   ]
  }
 ],
 "metadata": {
  "kernelspec": {
   "display_name": "Python 3",
   "language": "python",
   "name": "python3"
  },
  "language_info": {
   "codemirror_mode": {
    "name": "ipython",
    "version": 3
   },
   "file_extension": ".py",
   "mimetype": "text/x-python",
   "name": "python",
   "nbconvert_exporter": "python",
   "pygments_lexer": "ipython3",
   "version": "3.7.1"
  }
 },
 "nbformat": 4,
 "nbformat_minor": 2
}
