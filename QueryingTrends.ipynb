{
 "cells": [
  {
   "cell_type": "markdown",
   "metadata": {},
   "source": [
    "# brings new insights into current trends regarding localities, topics and events."
   ]
  },
  {
   "cell_type": "markdown",
   "metadata": {},
   "source": [
    "# important!: open neo4j, gather required libraries"
   ]
  },
  {
   "cell_type": "code",
   "execution_count": 3,
   "metadata": {},
   "outputs": [],
   "source": [
    "import os\n",
    "import csv\n",
    "from neo4j import GraphDatabase, basic_auth\n",
    "\n",
    "#currently neo4j is running on localhost\n",
    "neo4jUrl = os.environ.get('NEO4J_URL',\"bolt://localhost\")\n",
    "neo4jUser = os.environ.get('NEO4J_USER',\"neo4j\")\n",
    "neo4jPass = os.environ.get('NEO4J_PASSWORD',\"1\")\n",
    "\n",
    "driver = GraphDatabase.driver(neo4jUrl, auth=basic_auth(neo4jUser, neo4jPass))\n",
    "\n",
    "graph = driver.session()"
   ]
  },
  {
   "cell_type": "markdown",
   "metadata": {},
   "source": [
    "# parameters for Cypher-queries"
   ]
  },
  {
   "cell_type": "code",
   "execution_count": 21,
   "metadata": {},
   "outputs": [],
   "source": [
    "# 0 = date; 1=month; 2=week\n",
    "dateAggregationOptions = [\"date(datetime({epochmillis:toInt(e.time)}))\", \"date.truncate('month',datetime({epochmillis:toInt(e.time)}))\", \"date.truncate('week',datetime({epochmillis:toInt(e.time)}), {dayOfWeek:2})\"]\n",
    "dateAggregation = dateAggregationOptions[1]\n",
    "amountOfReturnValues = \"5\"\n"
   ]
  },
  {
   "cell_type": "markdown",
   "metadata": {},
   "source": [
    "# Top Events (measured at RSVP-count)"
   ]
  },
  {
   "cell_type": "code",
   "execution_count": 24,
   "metadata": {},
   "outputs": [
    {
     "name": "stdout",
     "output_type": "stream",
     "text": [
      "2019-09-01 | ['{Yes_Rsvp_Amount: 22| Event_Name: Cloud Native} ', '{Yes_Rsvp_Amount: 5| Event_Name: WWD Meetup September} ']\n",
      "\n",
      "2019-08-01 | ['{Yes_Rsvp_Amount: 38| Event_Name: Introduction to Deep Learning} ', '{Yes_Rsvp_Amount: 29| Event_Name: React Zurich August Meetup} ', '{Yes_Rsvp_Amount: 27| Event_Name: Cloud Native Computing Meetup | August 2019} ', '{Yes_Rsvp_Amount: 22| Event_Name: Presentation: Accessible Data Visualization by Luc Guillemot & Tania Boa} ', '{Yes_Rsvp_Amount: 22| Event_Name: Skalierte Agilität Teil 2 - Praxisbesuch bei der SBB} ']\n",
      "\n",
      "2019-07-01 | ['{Yes_Rsvp_Amount: 68| Event_Name: Future of Mobility - Powered by Blockchain and Air-Mobility Infrastructure } ', '{Yes_Rsvp_Amount: 67| Event_Name: Meetup #3: Branding and UX für Voice User Interfaces} ', '{Yes_Rsvp_Amount: 56| Event_Name: UX Meetup Juli - UX im Novartis Institutes for BioMedical Research} ', '{Yes_Rsvp_Amount: 50| Event_Name: Erfahrungsbericht Kanban in Scrum anwenden - Eine Erfolgsstory} ', '{Yes_Rsvp_Amount: 48| Event_Name: XIV. Go Meetup } ']\n",
      "\n",
      "2019-06-01 | ['{Yes_Rsvp_Amount: 1385| Event_Name: Andreas M. Antonopoulos: Thoughts on The Future of Programmable Money.} ', '{Yes_Rsvp_Amount: 171| Event_Name: BATbern 43 - Event Driven Architecture} ', '{Yes_Rsvp_Amount: 120| Event_Name: AI reinforcement learning & analytical data mgmt with R} ', '{Yes_Rsvp_Amount: 83| Event_Name: Web Zürich June} ', \"{Yes_Rsvp_Amount: 81| Event_Name: TensorFlow 2.0 — What's New & Cell Phenotyping with Python} \"]\n",
      "\n",
      "2019-05-01 | ['{Yes_Rsvp_Amount: 23| Event_Name: Data Lineage w. Graph DBs / From active DBs to NoSQL} ']\n",
      "\n",
      "2019-04-01 | ['{Yes_Rsvp_Amount: 33| Event_Name: (ZURICH) GraalVM hands-on with Thomas Wuerthinger} ']\n",
      "\n",
      "2019-01-01 | ['{Yes_Rsvp_Amount: 26| Event_Name: (ZURICH) Write your first smart contract on HyperLedger Fabric} ']\n",
      "\n",
      "2018-12-01 | ['{Yes_Rsvp_Amount: 34| Event_Name: (GENEVA) Write your first smart contract on HyperLedger Fabric} ']\n",
      "\n",
      "2018-09-01 | ['{Yes_Rsvp_Amount: 15| Event_Name: Infra As Code Terraform Hands On Workshop, Deploy a scalable Web Infrastructure} ']\n",
      "\n",
      "2018-05-01 | ['{Yes_Rsvp_Amount: 20| Event_Name: Build an IoT low power geo tracker prototype with  open source} ']\n",
      "\n"
     ]
    }
   ],
   "source": [
    "def get_top_events(tx):\n",
    "    for record in tx.run(\"match (e:Event) with \"+dateAggregation+\" as date, collect(e) as ec, toInt(e.yes_rsvp_count) as yes_rsvp_count order by yes_rsvp_count desc unwind ec as ecu match (ecu:Event) with  date, collect('{Yes_Rsvp_Amount: '+yes_rsvp_count+'| Event_Name: '+ ecu.name+'} ')[..\"+amountOfReturnValues+\"] as rsvps_for_events  return  date, rsvps_for_events order by date desc\"):\n",
    "        print(str(record[\"date\"]) + \" | \" + str(record[\"rsvps_for_events\"]) +\"\\n\")\n",
    "\n",
    "with driver.session() as session:\n",
    "    session.read_transaction(get_top_events)"
   ]
  },
  {
   "cell_type": "markdown",
   "metadata": {},
   "source": [
    "# Hot Cities: Ranking of the cities with the highest number of events"
   ]
  },
  {
   "cell_type": "code",
   "execution_count": 45,
   "metadata": {},
   "outputs": [
    {
     "name": "stdout",
     "output_type": "stream",
     "text": [
      "2019-09-01 | ['Events_Amount: 1 | City: Wallisellen / Zürich ']\n",
      "2019-08-01 | ['Events_Amount: 7 | City: Zürich ', 'Events_Amount: 3 | City: Bern ']\n",
      "2019-07-01 | ['Events_Amount: 21 | City: Zürich ', 'Events_Amount: 7 | City: Stuttgart ']\n",
      "2019-06-01 | ['Events_Amount: 44 | City: Zürich ', 'Events_Amount: 13 | City: Bern ']\n",
      "2019-05-01 | ['Events_Amount: 1 | City: Zürich ']\n",
      "2019-04-01 | ['Events_Amount: 1 | City: 8005 Zurich ']\n",
      "2019-01-01 | ['Events_Amount: 1 | City: 8005 Zurich ']\n",
      "2018-12-01 | ['Events_Amount: 1 | City: Genève ']\n",
      "2018-09-01 | ['Events_Amount: 1 | City: 8005 Zurich ']\n",
      "2018-05-01 | ['Events_Amount: 1 | City: 8005 Zurich ']\n"
     ]
    }
   ],
   "source": [
    "def get_hot_locations(tx):\n",
    "    for record in tx.run(\"match(e:Event) where not (e.city='') with \"+dateAggregation+\" as date, e.city as city, count(*) as amount_events_in_city order by date desc, amount_events_in_city desc  return  date, collect('Events_Amount: '+amount_events_in_city +' | City: '+ city+' ')[..\"+amountOfReturnValues+\"] as events_in_cities  order by date desc\"):\n",
    "        print(str(record[\"date\"]) + \" | \" + str(record[\"events_in_cities\"]))\n",
    "\n",
    "with driver.session() as session:\n",
    "    session.read_transaction(get_hot_locations)"
   ]
  },
  {
   "cell_type": "markdown",
   "metadata": {},
   "source": [
    "# Hot Addresses: Ranking of the addresses with the highest number of events"
   ]
  },
  {
   "cell_type": "code",
   "execution_count": 46,
   "metadata": {},
   "outputs": [
    {
     "name": "stdout",
     "output_type": "stream",
     "text": [
      "2019-09-01['Events_Amount: 1| Address: Wallisellen / Zürich |  Richtistrasse 7 ']\n",
      "2019-08-01['Events_Amount: 4| Address: Zürich |  Limmatstrasse 50 ', 'Events_Amount: 3| Address: Vaduz |  Fabrikweg ']\n",
      "2019-07-01['Events_Amount: 2| Address: Zürich |  Stüssihofstatt 4 ', 'Events_Amount: 2| Address: Zug |  Dammstrasse 16 ']\n",
      "2019-06-01['Events_Amount: 4| Address: Zürich |  Vulkanstrasse 106 ', 'Events_Amount: 3| Address: Zürich |  Limmatstrasse 183 ']\n",
      "2019-05-01['Events_Amount: 1| Address: Zürich |  Hardstrasse 201 ']\n",
      "2019-04-01['Events_Amount: 1| Address: 8005 Zurich |   Hardstrasse 201 ']\n",
      "2019-01-01['Events_Amount: 1| Address: 8005 Zurich |   Hardstrasse 201 ']\n",
      "2018-12-01['Events_Amount: 1| Address: Genève |  Route de Pré-Bois 29 ']\n",
      "2018-09-01['Events_Amount: 1| Address: 8005 Zurich |   Hardstrasse 201 ']\n",
      "2018-05-01['Events_Amount: 1| Address: 8005 Zurich |   Hardstrasse 201 ']\n"
     ]
    }
   ],
   "source": [
    "def get_hot_addresses(tx):\n",
    "    for record in tx.run(\"match (e:Event) where not e.address = '' and  not e.city='' with   \"+dateAggregation+\" as date, e.address as address, e.city as city, count(*) as amount_events_at_address order by  amount_events_at_address desc return date, collect('Events_Amount: '+amount_events_at_address +'| Address: '+ city+' '+'|  '+ address+' ')[..\"+amountOfReturnValues+\"] as events_at_addresses order by date desc\"):\n",
    "        print(str(record[\"date\"]) + str(record[\"events_at_addresses\"]))\n",
    "\n",
    "with driver.session() as session:\n",
    "    session.read_transaction(get_hot_addresses)\n",
    "    "
   ]
  },
  {
   "cell_type": "markdown",
   "metadata": {},
   "source": [
    "# Hot Topics: Ranking of the topics with the highest number of events"
   ]
  },
  {
   "cell_type": "code",
   "execution_count": 47,
   "metadata": {},
   "outputs": [
    {
     "name": "stdout",
     "output_type": "stream",
     "text": [
      "2019-09-01 | ['Events_Amount 1 | Topic: paas', 'Events_Amount 1 | Topic: cloudfoundry']\n",
      "2019-08-01 | ['Events_Amount 6 | Topic: web-development', 'Events_Amount 5 | Topic: computer-programming']\n",
      "2019-07-01 | ['Events_Amount 14 | Topic: web-development', 'Events_Amount 11 | Topic: newtech']\n",
      "2019-06-01 | ['Events_Amount 22 | Topic: cryptocurrency', 'Events_Amount 21 | Topic: newtech']\n",
      "2019-05-01 | ['Events_Amount 1 | Topic: predictive-analytics', 'Events_Amount 1 | Topic: open-data']\n",
      "2019-04-01 | ['Events_Amount 2 | Topic: devops', 'Events_Amount 2 | Topic: machine-learning']\n",
      "2019-01-01 | ['Events_Amount 2 | Topic: docker', 'Events_Amount 2 | Topic: devops']\n",
      "2018-12-01 | ['Events_Amount 2 | Topic: smart-contracts', 'Events_Amount 2 | Topic: paas']\n",
      "2018-09-01 | ['Events_Amount 2 | Topic: blockchain', 'Events_Amount 2 | Topic: iaas-infrastructure-as-a-service']\n",
      "2018-05-01 | ['Events_Amount 2 | Topic: blockchain', 'Events_Amount 2 | Topic: iaas-infrastructure-as-a-service']\n"
     ]
    }
   ],
   "source": [
    "def get_hot_topics(tx):\n",
    "    for record in tx.run(\"match(e:Event)<-[:ORGANIZES]-(g:Group)-[:IS_ABOUT]->(t:Topic) with \"+dateAggregation+\" as date, t.urlkey as topic, count(e) as amount_events_per_topic order by amount_events_per_topic desc return date, collect('Events_Amount '+amount_events_per_topic+ ' | Topic: '+topic )[..\"+amountOfReturnValues+\"] as events_per_topics order by date desc\"):\n",
    "        print(str(record[\"date\"]) + \" | \" + str(record[\"events_per_topics\"]) )\n",
    "\n",
    "with driver.session() as session:\n",
    "    session.read_transaction(get_hot_topics)"
   ]
  },
  {
   "cell_type": "markdown",
   "metadata": {},
   "source": [
    "# Hot Topics: Ranking of the topics and locations with the highest number of events"
   ]
  },
  {
   "cell_type": "code",
   "execution_count": 48,
   "metadata": {},
   "outputs": [
    {
     "name": "stdout",
     "output_type": "stream",
     "text": [
      "2019-09-01['Events_Amount: 1 | Address: Wallisellen / Zürich |  Richtistrasse 7 |  kubernetes ', 'Events_Amount: 1 | Address: Wallisellen / Zürich |  Richtistrasse 7 |  software-architecture ']\n",
      "2019-08-01['Events_Amount: 3 | Address: Vaduz |  Fabrikweg |  ethical-hacking ', 'Events_Amount: 3 | Address: Vaduz |  Fabrikweg |  hardware-hacking-and-reverse-engineering ']\n",
      "2019-07-01['Events_Amount: 2 | Address: Zürich |  Limmatstrasse 183 |  witi ', 'Events_Amount: 2 | Address: Zürich |  Limmatstrasse 183 |  learning ']\n",
      "2019-06-01['Events_Amount: 4 | Address: Zürich |  Vulkanstrasse 106 |  cloud-computing ', 'Events_Amount: 3 | Address: 8005 Zurich |   Hardstrasse 201 |  big-data-analytics ']\n",
      "2019-05-01['Events_Amount: 1 | Address: Zürich |  Hardstrasse 201 |  machine-learning ', 'Events_Amount: 1 | Address: Zürich |  Hardstrasse 201 |  data-visualization ']\n",
      "2019-04-01['Events_Amount: 2 | Address: 8005 Zurich |   Hardstrasse 201 |  blockchain ', 'Events_Amount: 2 | Address: 8005 Zurich |   Hardstrasse 201 |  iot-hacking ']\n",
      "2019-01-01['Events_Amount: 2 | Address: 8005 Zurich |   Hardstrasse 201 |  paas ', 'Events_Amount: 2 | Address: 8005 Zurich |   Hardstrasse 201 |  docker ']\n",
      "2018-12-01['Events_Amount: 2 | Address: Genève |  Route de Pré-Bois 29 |  paas ', 'Events_Amount: 2 | Address: Genève |  Route de Pré-Bois 29 |  devops ']\n",
      "2018-09-01['Events_Amount: 2 | Address: 8005 Zurich |   Hardstrasse 201 |  paas ', 'Events_Amount: 2 | Address: 8005 Zurich |   Hardstrasse 201 |  devops ']\n",
      "2018-05-01['Events_Amount: 2 | Address: 8005 Zurich |   Hardstrasse 201 |  big-data-analytics ', 'Events_Amount: 2 | Address: 8005 Zurich |   Hardstrasse 201 |  iaas-infrastructure-as-a-service ']\n"
     ]
    }
   ],
   "source": [
    "def get_hot_topics_and_addresses(tx):\n",
    "    for record in tx.run(\"match (e:Event)<-[:ORGANIZES]-(g:Group)-[:IS_ABOUT]->(t:Topic) where not e.address = '' and  not e.city='' with  \"+dateAggregation+\" as date, e.address as address, e.city as city, t.urlkey as topic, count(*) as amount_events_per_topic_location order by  amount_events_per_topic_location desc return date, collect('Events_Amount: '+amount_events_per_topic_location +' | Address: '+ city+' '+'|  '+ address+' '+'|  '+ topic+' ')[..\"+amountOfReturnValues+\"] as events_per_topics_and_locations order by date desc\"):\n",
    "        print(str(record[\"date\"]) + str(record[\"events_per_topics_and_locations\"]))\n",
    "\n",
    "with driver.session() as session:\n",
    "    session.read_transaction(get_hot_topics_and_addresses)"
   ]
  },
  {
   "cell_type": "markdown",
   "metadata": {},
   "source": [
    "# Ranking of the groups that organizes the most events\n",
    "Ranking is based on amount of Events of the groups"
   ]
  },
  {
   "cell_type": "code",
   "execution_count": 52,
   "metadata": {},
   "outputs": [
    {
     "name": "stdout",
     "output_type": "stream",
     "text": [
      "13\t|Code4Fun\n",
      "6\t|CV Labs - Switzerland\n",
      "5\t|OpenTechSchool Zurich\n",
      "5\t|Cybersecurity Liechtenstein\n",
      "3\t|Bitcoin Meetup Switzerland\n",
      "3\t|Big Data Developers in Switzerland\n",
      "3\t|Digitale Initiativen\n",
      "2\t|Agile & Beyond PostFinance\n",
      "2\t|Westhive Innovation Ecosystem\n",
      "2\t|DEFCON Switzerland (DC4131)\n",
      "2\t|Azure Blockchain Zürich\n",
      "2\t|Data Visualization Zürich\n",
      "2\t|WordPress Neuchâtel\n",
      "2\t|Smart City Lab Basel\n",
      "2\t|Voice Meetup Switzerland\n",
      "2\t|Pantalks - tech & non-tech talks @ Colab Zürich\n",
      "2\t|Microservices Zürich\n",
      "2\t|WintiWebDev Talks\n",
      "2\t|DevOps Meetup Zürich\n",
      "2\t|WebDev Chur\n",
      "2\t|SharePoint & Office 365 Community Schweiz\n",
      "2\t|innolab smart mobility\n",
      "2\t|agile Mindset, Zürich\n",
      "2\t|Lean Change Management Meetup\n",
      "2\t|Trust Square - Blockchain Swiss Made\n",
      "1\t|Scrum Skalierung mit Nexus\n",
      "1\t|GDG Zürich\n",
      "1\t|Azure Meetup Konstanz & Region\n",
      "1\t|Swiss Perl Community Meetup\n",
      "1\t|Women Techmakers Switzerland\n",
      "1\t|Complexity and Cynefin Basel\n",
      "1\t|Angular Zürich\n",
      "1\t|<vue-zurich/>\n",
      "1\t|Embedded GNU/Linux Developer\n",
      "1\t|Framer Zurich\n",
      "1\t|PyData Zurich\n",
      "1\t|Stuttgart Gophers\n",
      "1\t|Zurich R User Group\n",
      "1\t|Arduino und Elektronik Abend im FabLab Zürich\n",
      "1\t|Stuttgart Industrie 4.0 und IoT Meetup\n",
      "1\t|Liberating Structures User Group Bern\n",
      "1\t|Zürich Progressive Web App Meetup\n",
      "1\t|Lean Startup Bern\n",
      "1\t|AWS Swiss User Group – Bern\n",
      "1\t|Product Management Nights, Zurich\n",
      "1\t|CMCE Configuration Manager Community Event\n",
      "1\t|Zürich School of AI\n",
      "1\t|ProductTank Bern\n",
      "1\t|Cloud Native Computing Switzerland\n",
      "1\t|RubyMonstas - Programming for Women\n",
      "1\t|Swiss Data Circle\n",
      "1\t|Bitcoin Ulm\n",
      "1\t|On data and design – Switzerland\n",
      "1\t|Rust Community Stuttgart\n",
      "1\t|Freiburg NLP (Natural Language Processing)\n",
      "1\t|SwissLifeScience\n",
      "1\t|Crypto Summit\n",
      "1\t|Friends of Ambitorio\n",
      "1\t|AWS UserGroup Ulm/Neu-Ulm\n",
      "1\t|Deep Learning Zurich (DLZH)\n",
      "1\t|Zürich SaltStack\n",
      "1\t|.NET User Group Friedrichshafen\n",
      "1\t|Zürich Blockchain Open Coffee\n",
      "1\t|Projekte meistern mit Spaß am Erfolg\n",
      "1\t|Strasbourg Deep Learning Meetup\n",
      "1\t|SMART VALOR Community\n",
      "1\t|Meet IBM Blockchain for Business @ Stuttgart\n",
      "1\t|Ecosystems & Data Sharing\n",
      "1\t|Disrupt Meetup | Future of Mobility Stuttgart\n",
      "1\t|UX WIZARDS\n",
      "1\t|Scaled Agile Framework (SAFe) Bern\n",
      "1\t|Zürich Scaled Agile Framework (SAFe®) Meetup\n",
      "1\t|Agile Breakfast Zürich von swissICT\n",
      "1\t|AI for Intelligent Cloud Zürich\n",
      "1\t|Azure Meetup Bodensee\n",
      "1\t|.NET Usergroup Zentralschweiz\n",
      "1\t|AnalyticsCamp Switzerland\n",
      "1\t|Azure and AI Basel User Group\n",
      "1\t|CENIT and IBM Process Automation @Stuttgart\n",
      "1\t|where innovation works\n",
      "1\t|Machine Learning & Artificial Intelligence Meetup Bern\n",
      "1\t|Neos CMS and Flow Framework Meetup Swiss\n",
      "1\t|Angular Basel\n",
      "1\t|Power BI User Group Switzerland\n",
      "1\t|BernR\n",
      "1\t|CoderDojo Zurich\n",
      "1\t|Software Artisans\n",
      "1\t|CRS / ModSecurity Meetup Bern\n",
      "1\t|Swiss Big Data User Group\n",
      "1\t|GigBuzz Zürich\n",
      "1\t|Game Developers Zurich\n",
      "1\t|UX Schweiz – Last Thursday Talks\n",
      "1\t|Camunda User Group Stuttgart\n",
      "1\t|ux.feierabend.beer Bern\n",
      "1\t|Blockchain in Pharma Network\n",
      "1\t|Zürich ReactJS Meetup\n",
      "1\t|Swiss Cloud Security Alliance (CSA) Chapter - Zürich area\n",
      "1\t|Web Zürich\n",
      "1\t|Zürich Startup Founder 101\n",
      "1\t|AR/VR/MR - ActionJam - MeetUp Bern\n",
      "1\t|UX FLUPA Alsace\n",
      "1\t|Robotics and ROS in Zurich\n",
      "1\t|Elementor Zürich\n",
      "1\t|SAP Customer Experience Switzerland\n",
      "1\t|Future of Data: Zürich\n",
      "1\t|Blockchain Initiation\n",
      "1\t|Oracle Beer\n",
      "1\t|orclapex Stuttgart\n",
      "1\t|Game Developers Suisse Romande\n",
      "1\t|#thundigital\n",
      "1\t|New Ways Of Working\n",
      "1\t|Cryptowelt im Grossraum Zürich\n",
      "1\t|WoSEC Zürich: Women of Security (Zürich, Switzerland)\n",
      "1\t|Crypto Valley Hathor Meetup Group\n",
      "1\t|Blockchain Bern\n",
      "1\t|.NET User Group Basel\n",
      "1\t|Python User Group Freiburg\n",
      "1\t|HackSXB\n",
      "1\t|Bitcoins Schweiz\n",
      "1\t|Blockchain Meet-up Liechtenstein\n",
      "1\t|Business Process Management & Automation Switzerland\n",
      "1\t|UX ROI Zürich\n",
      "1\t|Zurich Drupal User Group Meetup\n",
      "1\t|GDG Strasbourg\n",
      "1\t|Play14 Basel\n",
      "1\t|Azure Stuttgart\n",
      "1\t|Natural Language Processing - Zurich\n",
      "1\t|Agile Baden (CH)\n",
      "1\t|Scrum User Group Bern (Scrum Alliance)\n",
      "1\t|Artificial Intelligence Discussions and Drinks,Saint Gallen\n",
      "1\t|Stellar Blockchain Switzerland\n",
      "1\t|ElsassJUG\n",
      "1\t|Messaging & Streaming Switzerland\n",
      "1\t|Salesforce Users (by start-cons)\n",
      "1\t|Meetup of Test\n",
      "1\t|CryptoMonday | Blockchain Zurich\n",
      "1\t|Rust Basel\n",
      "1\t|Drupal User Group Bodensee\n",
      "1\t|Agile Breakfast St. Gallen von swissICT\n",
      "1\t|Zurich Legal Tech Meetup\n",
      "1\t|Power BI User Group Stuttgart\n",
      "1\t|Bitcoin & Blockchain Meetup Dreiländereck\n",
      "1\t|Customer Success Association Switzerland Austausch\n",
      "1\t|Swiss Oracle Cloud Community\n",
      "1\t|BATbern\n",
      "1\t|Zürich Business Agility Meetup\n",
      "1\t|Angular Stuttgart\n",
      "1\t|Ansible Bern\n",
      "1\t|WordPress Bern\n",
      "1\t|Stuttgart B2B Customer Success Management Meetup\n",
      "1\t|Vue Basel\n",
      "1\t|Unreal Engine Schweiz\n",
      "1\t|Azure Professional Workgroup\n",
      "1\t|GDG Freiburg\n",
      "1\t|Zürich Gophers\n",
      "1\t|MAMA - Multichain Asset Managers Association\n",
      "1\t|Technopark Liechtenstein\n",
      "1\t|Software Architecture and Project Design Zurich\n",
      "1\t|Meetup CTO Strasbourg / Grand Est\n",
      "1\t|Microsoft User Group Strasbourg\n",
      "1\t|Bern Hack Night\n",
      "1\t|UX Schweiz - Basel Meetups\n"
     ]
    }
   ],
   "source": [
    "def get_group_ranking(tx):\n",
    "    for record in tx.run(\"match (g:Group)-[:ORGANIZES]->(e:Event)  return g.name as Group, count(e) as amountOfEvents order by amountOfEvents desc\"):\n",
    "        print(str(record[\"amountOfEvents\"])  + \"\\t|\" + str(record[\"Group\"]) )\n",
    "\n",
    "with driver.session() as session:\n",
    "    session.read_transaction(get_group_ranking)"
   ]
  },
  {
   "cell_type": "markdown",
   "metadata": {},
   "source": [
    "# close neo4j connection"
   ]
  },
  {
   "cell_type": "code",
   "execution_count": null,
   "metadata": {},
   "outputs": [],
   "source": [
    "graph.close()"
   ]
  }
 ],
 "metadata": {
  "kernelspec": {
   "display_name": "Python 3",
   "language": "python",
   "name": "python3"
  },
  "language_info": {
   "codemirror_mode": {
    "name": "ipython",
    "version": 3
   },
   "file_extension": ".py",
   "mimetype": "text/x-python",
   "name": "python",
   "nbconvert_exporter": "python",
   "pygments_lexer": "ipython3",
   "version": "3.7.1"
  }
 },
 "nbformat": 4,
 "nbformat_minor": 2
}
