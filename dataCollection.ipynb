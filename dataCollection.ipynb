{
 "cells": [
  {
   "cell_type": "markdown",
   "metadata": {},
   "source": [
    "# In this file data about groups, events and RSVPs are gathered, filtered and transferred to CSV files."
   ]
  },
  {
   "cell_type": "markdown",
   "metadata": {},
   "source": [
    "# 1. Preparation: required libraries are fetched and connection to meetup is established."
   ]
  },
  {
   "cell_type": "code",
   "execution_count": 2,
   "metadata": {},
   "outputs": [
    {
     "name": "stdout",
     "output_type": "stream",
     "text": [
      "Collecting meetup.api\n",
      "  Using cached https://files.pythonhosted.org/packages/b7/44/a545b860f19cac088cb7f3e39beae8334b63e025729348ddeffb3342122a/meetup_api-0.1.1-py2.py3-none-any.whl\n",
      "Requirement already satisfied: six in c:\\programdata\\anaconda3\\lib\\site-packages (from meetup.api) (1.12.0)\n",
      "Requirement already satisfied: requests in c:\\programdata\\anaconda3\\lib\\site-packages (from meetup.api) (2.21.0)\n",
      "Requirement already satisfied: certifi>=2017.4.17 in c:\\programdata\\anaconda3\\lib\\site-packages (from requests->meetup.api) (2018.11.29)\n",
      "Requirement already satisfied: urllib3<1.25,>=1.21.1 in c:\\programdata\\anaconda3\\lib\\site-packages (from requests->meetup.api) (1.24.1)\n",
      "Requirement already satisfied: idna<2.9,>=2.5 in c:\\programdata\\anaconda3\\lib\\site-packages (from requests->meetup.api) (2.8)\n",
      "Requirement already satisfied: chardet<3.1.0,>=3.0.2 in c:\\programdata\\anaconda3\\lib\\site-packages (from requests->meetup.api) (3.0.4)\n",
      "Installing collected packages: meetup.api\n",
      "Successfully installed meetup.api\n"
     ]
    }
   ],
   "source": [
    "    !pip install meetup.api\n",
    "    import meetup.api\n",
    "    import json\n",
    "\n",
    "    import pandas\n",
    "    from pandas.io.json import json_normalize\n",
    "\n",
    "    \n",
    "    client = meetup.api.Client('149155b67979442634b463d11cc')\n",
    "    "
   ]
  },
  {
   "cell_type": "markdown",
   "metadata": {},
   "source": [
    "# 2. function createCSV is prepared"
   ]
  },
  {
   "cell_type": "code",
   "execution_count": 3,
   "metadata": {},
   "outputs": [],
   "source": [
    "    # creation of the CSV files for Groups, Events and RSVPs\n",
    "    def createCSV(eventsRange, nameOfEventsRange):\n",
    "        fileGroups = \"groups\" + nameOfEventsRange + \".csv\"\n",
    "        fileRSVPs = \"rsvps\" + nameOfEventsRange + \".csv\"\n",
    "        fileEvents = \"events\" + nameOfEventsRange + \".csv\"\n",
    "        \n",
    "        groups =\"\"\n",
    "        f = open(fileRSVPs, \"w+\")\n",
    "        f.close()\n",
    "\n",
    "        f = open(fileEvents, \"w+\")\n",
    "        f.close()\n",
    "        \n",
    "        #create Events-CSV\n",
    "        eventDF = pandas.DataFrame.from_dict(eventsRange.__dict__[\"results\"])\n",
    "        eventDF = eventDF[['id', 'name', 'event_url', 'rsvp_limit','yes_rsvp_count', 'time', 'venue','group']]\n",
    "    \n",
    "        eventDF = eventDF.to_json(orient='records')\n",
    "        # flatten Dateframe\n",
    "        eventDF = json_normalize(json.loads(eventDF))[['id', 'name', 'event_url', 'rsvp_limit','yes_rsvp_count', 'time','venue.city','venue.address_1','group.id', 'group.urlname']].rename(columns={'venue.address_1':'address','venue.city': 'city','group.id': 'group_id', 'group.urlname': 'group_urlname'}) \n",
    "        \n",
    "        \n",
    "        eventDF.to_csv(fileEvents, mode='a', encoding='utf-8')\n",
    "\n",
    "        for index2, row2 in eventDF.iterrows():\n",
    "            eventId = row2['id']\n",
    "            groups += row2['group_urlname']+\",\"\n",
    "\n",
    "            #gather RSVP-data\n",
    "            rsvp_info = client.GetRsvps({'event_id': eventId})\n",
    "            rsvpDF = pandas.DataFrame.from_dict(rsvp_info.__dict__[\"results\"])\n",
    "            #create RSVP-CSV\n",
    "            rsvpDF.loc[:, ('member')]\n",
    "            #rsvpDF = rsvpDF[['member']]\n",
    "            rsvpDF = rsvpDF.to_json(orient='records')\n",
    "            # flatten Dataframe\n",
    "            rsvpDF = json_normalize(json.loads(rsvpDF))[['member.name', 'member.member_id']].rename(columns={'member.name': 'name', 'member.member_id': 'member_id'}) \n",
    "            rsvpDF['event_id'] = eventId\n",
    "            rsvpDF.to_csv(fileRSVPs, mode='a', encoding='utf-8')\n",
    "\n",
    "        #remove last comma\n",
    "        groups = groups[:-1]\n",
    "        #gather Group-data\n",
    "        groupRange = client.GetGroups({'group_urlname' : groups})\n",
    "        groupDF = pandas.DataFrame.from_dict(groupRange.__dict__[\"results\"])\n",
    "        #create Group-CSV\n",
    "        groupDF = groupDF[['id', 'name', 'members', 'link', 'topics']]  \n",
    "        groupDF.to_csv(fileGroups, encoding='utf-8')\n",
    "        "
   ]
  },
  {
   "cell_type": "markdown",
   "metadata": {},
   "source": [
    "# 3. The events are the basis for the data collection. Via an API, data about the events are fetched in the desired range.\n",
    "Depending on the desired analysis, the corresponding line is used. The other lines are commented out. "
   ]
  },
  {
   "cell_type": "code",
   "execution_count": 5,
   "metadata": {
    "scrolled": false
   },
   "outputs": [],
   "source": [
    "%%capture\n",
    "#ZH = client.GetOpenEvents(category=34, city=\"Zürich\", country='CH')\n",
    "# info: 28264920 -> code4fun ---- 31154587 --> swiss data circle\n",
    "Oracle = client.GetEvents({'status': 'past', 'group_id' : '28264920,31154587'})\n",
    "\n",
    "#BS = client.GetOpenEvents(category=34, city=\"Basel\", country='CH')\n",
    "#Lndn = client.GetOpenEvents(category=34, city=\"London\", country='GB')\n",
    "#RHF = client.GetOpenEvents(category=34, city=\"Rheinfelden\", country='CH')\n",
    "\n",
    "#Top = client.GetOpenEvents({'category': 34, 'country' : 'CH', 'time' : '1m,12m', 'status' : 'upcoming', 'trending' : 'desc=true'})\n",
    "#ZHTrend = client.GetOpenEvents(category=34, country = \"CH\", city=\"Zürich\", time=\"0,12m\", status=\"upcoming\", radius=150)"
   ]
  },
  {
   "cell_type": "markdown",
   "metadata": {},
   "source": [
    "# 4. The function for CSV creation is called here using Events-Dataframe. The names of the files to be created are specified in the parameters.\n",
    "Depending on the desired analysis, the corresponding line is used. The other lines are commented out. "
   ]
  },
  {
   "cell_type": "code",
   "execution_count": 6,
   "metadata": {
    "scrolled": false
   },
   "outputs": [],
   "source": [
    "%%capture\n",
    "#createCSV(ZH, \"ZH\")\n",
    "\n",
    "createCSV(Oracle,\"Oracle\")\n",
    "\n",
    "#createCSV(Top, \"Top\")\n",
    "#createCSV(ZHTrend, \"ZHTrend\")\n"
   ]
  }
 ],
 "metadata": {
  "kernelspec": {
   "display_name": "Python 3",
   "language": "python",
   "name": "python3"
  },
  "language_info": {
   "codemirror_mode": {
    "name": "ipython",
    "version": 3
   },
   "file_extension": ".py",
   "mimetype": "text/x-python",
   "name": "python",
   "nbconvert_exporter": "python",
   "pygments_lexer": "ipython3",
   "version": "3.7.1"
  }
 },
 "nbformat": 4,
 "nbformat_minor": 2
}
