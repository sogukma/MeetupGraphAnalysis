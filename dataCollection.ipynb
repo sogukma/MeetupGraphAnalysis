{
 "cells": [
  {
   "cell_type": "markdown",
   "metadata": {},
   "source": [
    "# In this file data about groups, events and RSVPs are gathered, filtered and transferred to CSV files."
   ]
  },
  {
   "cell_type": "markdown",
   "metadata": {},
   "source": [
    "# 1. Preparation: required libraries are fetched and connection to meetup is established."
   ]
  },
  {
   "cell_type": "code",
   "execution_count": 26,
   "metadata": {},
   "outputs": [
    {
     "name": "stdout",
     "output_type": "stream",
     "text": [
      "Collecting meetup.api\n",
      "  Using cached https://files.pythonhosted.org/packages/b7/44/a545b860f19cac088cb7f3e39beae8334b63e025729348ddeffb3342122a/meetup_api-0.1.1-py2.py3-none-any.whl\n",
      "Requirement already satisfied: six in c:\\programdata\\anaconda3\\lib\\site-packages (from meetup.api) (1.12.0)\n",
      "Requirement already satisfied: requests in c:\\programdata\\anaconda3\\lib\\site-packages (from meetup.api) (2.21.0)\n",
      "Requirement already satisfied: chardet<3.1.0,>=3.0.2 in c:\\programdata\\anaconda3\\lib\\site-packages (from requests->meetup.api) (3.0.4)\n",
      "Requirement already satisfied: idna<2.9,>=2.5 in c:\\programdata\\anaconda3\\lib\\site-packages (from requests->meetup.api) (2.8)\n",
      "Requirement already satisfied: urllib3<1.25,>=1.21.1 in c:\\programdata\\anaconda3\\lib\\site-packages (from requests->meetup.api) (1.24.1)\n",
      "Requirement already satisfied: certifi>=2017.4.17 in c:\\programdata\\anaconda3\\lib\\site-packages (from requests->meetup.api) (2018.11.29)\n",
      "Installing collected packages: meetup.api\n",
      "Successfully installed meetup.api\n"
     ]
    }
   ],
   "source": [
    "    !pip install meetup.api\n",
    "    import meetup.api\n",
    "    import json\n",
    "\n",
    "    import pandas\n",
    "    from pandas.io.json import json_normalize\n",
    "\n",
    "    \n",
    "    client = meetup.api.Client('149155b67979442634b463d11cc')"
   ]
  },
  {
   "cell_type": "markdown",
   "metadata": {},
   "source": [
    "# 2. function createCSV is prepared"
   ]
  },
  {
   "cell_type": "code",
   "execution_count": 27,
   "metadata": {},
   "outputs": [],
   "source": [
    "    # creation of the CSV files for Groups, Events and RSVPs\n",
    "    def createCSV(fileGroups, fileRSVPs ,fileEvents, eventsRange):\n",
    "        groups =\"\"\n",
    "        f = open(fileRSVPs, \"w+\")\n",
    "        f.close()\n",
    "\n",
    "        f = open(fileEvents, \"w+\")\n",
    "        f.close()\n",
    "        \n",
    "        #create Events-CSV\n",
    "        eventDF = pandas.DataFrame.from_dict(eventsRange.__dict__[\"results\"])\n",
    "        eventDF = eventDF[['id', 'name', 'event_url', 'rsvp_limit','yes_rsvp_count', 'time', 'venue','group']]\n",
    "        eventDF = eventDF.to_json(orient='records')\n",
    "        # flatten Dateframe\n",
    "        eventDF = json_normalize(json.loads(eventDF))[['id', 'name', 'event_url', 'rsvp_limit','yes_rsvp_count', 'time','venue.city','group.id', 'group.urlname']].rename(columns={'venue.city': 'city','group.id': 'group_id', 'group.urlname': 'group_urlname'}) \n",
    "\n",
    "        eventDF.to_csv(fileEvents, mode='a', encoding='utf-8')\n",
    "\n",
    "        for index2, row2 in eventDF.iterrows():\n",
    "            eventId = row2['id']\n",
    "            groups += row2['group_urlname']+\",\"\n",
    "\n",
    "            #gather RSVP-data\n",
    "            rsvp_info = client.GetRsvps({'event_id': eventId})\n",
    "            rsvpDF = pandas.DataFrame.from_dict(rsvp_info.__dict__[\"results\"])\n",
    "            #create RSVP-CSV\n",
    "            rsvpDF.loc[:, ('member')]\n",
    "            rsvpDF = rsvpDF.to_json(orient='records')\n",
    "            # flatten Dataframe\n",
    "            rsvpDF = json_normalize(json.loads(rsvpDF))[['member.name', 'member.member_id']].rename(columns={'member.name': 'name', 'member.member_id': 'member_id'}) \n",
    "            rsvpDF['event_id'] = eventId\n",
    "            rsvpDF.to_csv(fileRSVPs, mode='a', encoding='utf-8')\n",
    "\n",
    "        #remove last comma\n",
    "        groups = groups[:-1]\n",
    "        #gather Group-data\n",
    "        groupRange = client.GetGroups({'group_urlname' : groups})\n",
    "        groupDF = pandas.DataFrame.from_dict(groupRange.__dict__[\"results\"])\n",
    "        #create Group-CSV\n",
    "        groupDF = groupDF[['id', 'name', 'members', 'link']]                                                             \n",
    "        groupDF.to_csv(fileGroups, encoding='utf-8')\n",
    "        "
   ]
  },
  {
   "cell_type": "markdown",
   "metadata": {},
   "source": [
    "# 3. The events are the basis for the data collection. Via an API, data about the events are fetched in the desired range.\n",
    "Depending on the desired analysis, the corresponding line is used. The other lines are commented out. "
   ]
  },
  {
   "cell_type": "code",
   "execution_count": 28,
   "metadata": {
    "scrolled": false
   },
   "outputs": [
    {
     "name": "stdout",
     "output_type": "stream",
     "text": [
      "29/30 (10 seconds remaining)\n",
      "28/30 (9 seconds remaining)\n"
     ]
    }
   ],
   "source": [
    "eventsRangeZH = client.GetOpenEvents(category=34, city=\"Zürich\", country='CH')\n",
    "# info: 28264920 -> code4fun ---- 31154587 --> swiss data circle\n",
    "eventsOracle = client.GetEvents({'status': 'past', 'group_id' : '28264920,31154587'})\n",
    "\n",
    "#eventsRangeBS = client.GetOpenEvents(category=34, city=\"Basel\", country='CH')\n",
    "#eventsRangeLndn = client.GetOpenEvents(category=34, city=\"London\", country='GB')\n",
    "#eventsRangeRHF = client.GetOpenEvents(category=34, city=\"Rheinfelden\", country='CH')\n",
    "\n",
    "#topEvents = client.GetOpenEvents({'category': 34, 'country' : 'CH', 'time' : '1m,12m', 'status' : 'upcoming', 'trending' : 'desc=true'})\n"
   ]
  },
  {
   "cell_type": "markdown",
   "metadata": {},
   "source": [
    "# 4. The function for CSV creation is called here using Events-Dataframe. The names of the files to be created are specified in the parameters.\n",
    "Depending on the desired analysis, the corresponding line is used. The other lines are commented out. "
   ]
  },
  {
   "cell_type": "code",
   "execution_count": 29,
   "metadata": {},
   "outputs": [
    {
     "name": "stdout",
     "output_type": "stream",
     "text": [
      "27/30 (3 seconds remaining)\n",
      "26/30 (2 seconds remaining)\n",
      "25/30 (2 seconds remaining)\n",
      "24/30 (2 seconds remaining)\n",
      "23/30 (1 seconds remaining)\n",
      "22/30 (1 seconds remaining)\n",
      "21/30 (1 seconds remaining)\n",
      "20/30 (1 seconds remaining)\n",
      "19/30 (0 seconds remaining)\n",
      "18/30 (0 seconds remaining)\n",
      "29/30 (10 seconds remaining)\n",
      "28/30 (10 seconds remaining)\n",
      "27/30 (10 seconds remaining)\n",
      "26/30 (9 seconds remaining)\n",
      "25/30 (9 seconds remaining)\n",
      "24/30 (9 seconds remaining)\n",
      "23/30 (9 seconds remaining)\n",
      "22/30 (8 seconds remaining)\n",
      "21/30 (8 seconds remaining)\n",
      "20/30 (8 seconds remaining)\n",
      "19/30 (7 seconds remaining)\n",
      "18/30 (7 seconds remaining)\n",
      "17/30 (7 seconds remaining)\n",
      "16/30 (6 seconds remaining)\n",
      "15/30 (6 seconds remaining)\n",
      "14/30 (6 seconds remaining)\n",
      "13/30 (6 seconds remaining)\n",
      "12/30 (6 seconds remaining)\n",
      "11/30 (5 seconds remaining)\n",
      "10/30 (5 seconds remaining)\n",
      "9/30 (5 seconds remaining)\n",
      "8/30 (4 seconds remaining)\n",
      "7/30 (4 seconds remaining)\n",
      "6/30 (4 seconds remaining)\n",
      "5/30 (3 seconds remaining)\n",
      "Sleeping for 4 seconds\n",
      "29/30 (10 seconds remaining)\n",
      "28/30 (9 seconds remaining)\n",
      "27/30 (9 seconds remaining)\n",
      "26/30 (8 seconds remaining)\n",
      "25/30 (8 seconds remaining)\n",
      "24/30 (8 seconds remaining)\n",
      "23/30 (7 seconds remaining)\n",
      "22/30 (7 seconds remaining)\n",
      "21/30 (6 seconds remaining)\n",
      "20/30 (6 seconds remaining)\n",
      "19/30 (6 seconds remaining)\n",
      "18/30 (6 seconds remaining)\n",
      "17/30 (5 seconds remaining)\n",
      "16/30 (5 seconds remaining)\n",
      "15/30 (4 seconds remaining)\n",
      "14/30 (4 seconds remaining)\n",
      "13/30 (4 seconds remaining)\n",
      "12/30 (3 seconds remaining)\n",
      "11/30 (3 seconds remaining)\n",
      "10/30 (3 seconds remaining)\n",
      "9/30 (3 seconds remaining)\n",
      "8/30 (2 seconds remaining)\n",
      "7/30 (1 seconds remaining)\n",
      "29/30 (10 seconds remaining)\n",
      "28/30 (10 seconds remaining)\n",
      "27/30 (10 seconds remaining)\n",
      "26/30 (9 seconds remaining)\n",
      "25/30 (9 seconds remaining)\n",
      "24/30 (9 seconds remaining)\n",
      "23/30 (9 seconds remaining)\n",
      "22/30 (8 seconds remaining)\n",
      "21/30 (8 seconds remaining)\n",
      "20/30 (8 seconds remaining)\n",
      "19/30 (8 seconds remaining)\n",
      "18/30 (8 seconds remaining)\n",
      "17/30 (7 seconds remaining)\n",
      "16/30 (7 seconds remaining)\n",
      "15/30 (7 seconds remaining)\n",
      "14/30 (6 seconds remaining)\n",
      "13/30 (6 seconds remaining)\n",
      "12/30 (6 seconds remaining)\n",
      "11/30 (5 seconds remaining)\n",
      "10/30 (5 seconds remaining)\n",
      "9/30 (5 seconds remaining)\n",
      "8/30 (4 seconds remaining)\n",
      "7/30 (4 seconds remaining)\n",
      "6/30 (4 seconds remaining)\n",
      "5/30 (4 seconds remaining)\n",
      "Sleeping for 5 seconds\n",
      "29/30 (10 seconds remaining)\n",
      "28/30 (10 seconds remaining)\n",
      "27/30 (10 seconds remaining)\n",
      "26/30 (9 seconds remaining)\n",
      "25/30 (9 seconds remaining)\n",
      "24/30 (9 seconds remaining)\n",
      "23/30 (9 seconds remaining)\n",
      "22/30 (8 seconds remaining)\n",
      "21/30 (8 seconds remaining)\n",
      "20/30 (8 seconds remaining)\n",
      "19/30 (8 seconds remaining)\n",
      "18/30 (8 seconds remaining)\n",
      "17/30 (7 seconds remaining)\n",
      "16/30 (7 seconds remaining)\n",
      "15/30 (7 seconds remaining)\n",
      "14/30 (6 seconds remaining)\n",
      "13/30 (6 seconds remaining)\n",
      "12/30 (6 seconds remaining)\n",
      "11/30 (6 seconds remaining)\n",
      "10/30 (6 seconds remaining)\n",
      "9/30 (5 seconds remaining)\n",
      "8/30 (5 seconds remaining)\n",
      "7/30 (5 seconds remaining)\n",
      "6/30 (5 seconds remaining)\n",
      "5/30 (4 seconds remaining)\n",
      "Sleeping for 5 seconds\n",
      "29/30 (10 seconds remaining)\n",
      "28/30 (10 seconds remaining)\n",
      "27/30 (9 seconds remaining)\n",
      "26/30 (9 seconds remaining)\n",
      "25/30 (9 seconds remaining)\n",
      "24/30 (8 seconds remaining)\n",
      "23/30 (8 seconds remaining)\n",
      "22/30 (8 seconds remaining)\n",
      "21/30 (8 seconds remaining)\n",
      "20/30 (7 seconds remaining)\n",
      "19/30 (7 seconds remaining)\n",
      "18/30 (7 seconds remaining)\n",
      "17/30 (7 seconds remaining)\n",
      "16/30 (7 seconds remaining)\n",
      "15/30 (6 seconds remaining)\n",
      "14/30 (6 seconds remaining)\n",
      "13/30 (6 seconds remaining)\n",
      "12/30 (5 seconds remaining)\n",
      "11/30 (5 seconds remaining)\n",
      "10/30 (5 seconds remaining)\n",
      "9/30 (4 seconds remaining)\n",
      "8/30 (4 seconds remaining)\n",
      "7/30 (4 seconds remaining)\n",
      "6/30 (4 seconds remaining)\n",
      "5/30 (3 seconds remaining)\n",
      "Sleeping for 4 seconds\n",
      "29/30 (10 seconds remaining)\n",
      "28/30 (10 seconds remaining)\n",
      "27/30 (9 seconds remaining)\n",
      "26/30 (9 seconds remaining)\n",
      "25/30 (9 seconds remaining)\n",
      "24/30 (8 seconds remaining)\n",
      "23/30 (8 seconds remaining)\n"
     ]
    }
   ],
   "source": [
    "createCSV(\"groupsZH.csv\", \"rsvpZH.csv\", \"eventsZH.csv\", eventsRangeZH)\n",
    "createCSV(\"groupsOracle.csv\", \"rsvpOracle.csv\", \"eventsOracle.csv\", eventsRange)\n",
    "#createCSV(\"topEventsGroupsCH.csv\", \"topEventsRSVPsCH.csv\", \"topEventsCH.csv\", topEvents)"
   ]
  }
 ],
 "metadata": {
  "kernelspec": {
   "display_name": "Python 3",
   "language": "python",
   "name": "python3"
  },
  "language_info": {
   "codemirror_mode": {
    "name": "ipython",
    "version": 3
   },
   "file_extension": ".py",
   "mimetype": "text/x-python",
   "name": "python",
   "nbconvert_exporter": "python",
   "pygments_lexer": "ipython3",
   "version": "3.7.1"
  }
 },
 "nbformat": 4,
 "nbformat_minor": 2
}
